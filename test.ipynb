{
 "cells": [
  {
   "cell_type": "code",
   "execution_count": 46,
   "metadata": {
    "collapsed": true
   },
   "outputs": [],
   "source": [
    "import pandas as pd\n",
    "import zipfile\n",
    "from sklearn.utils import shuffle"
   ]
  },
  {
   "cell_type": "code",
   "execution_count": 47,
   "metadata": {
    "collapsed": false
   },
   "outputs": [],
   "source": [
    "#file_path = \"reviews_rt_all.csv\"\n",
    "#file_path = \"C:/Users/pholovnya/Desktop/imdb_small.csv\"\n",
    "\n",
    "data1 = pd.read_csv('reviews_rt_all.csv', sep = '|')\n",
    "data2 = pd.read_csv('C:/Users/pholovnya/Desktop/imdb_small.csv', sep = '|')\n",
    "data = data1.append(data2)\n",
    "data = shuffle(data,random_state=42)"
   ]
  },
  {
   "cell_type": "code",
   "execution_count": 48,
   "metadata": {
    "collapsed": false
   },
   "outputs": [],
   "source": [
    "#data = pd.read_csv(file_path, sep = '|')"
   ]
  },
  {
   "cell_type": "code",
   "execution_count": 49,
   "metadata": {
    "collapsed": false
   },
   "outputs": [
    {
     "data": {
      "text/html": [
       "<div>\n",
       "<table border=\"1\" class=\"dataframe\">\n",
       "  <thead>\n",
       "    <tr style=\"text-align: right;\">\n",
       "      <th></th>\n",
       "      <th>label</th>\n",
       "      <th>text</th>\n",
       "    </tr>\n",
       "  </thead>\n",
       "  <tbody>\n",
       "    <tr>\n",
       "      <th>12328</th>\n",
       "      <td>1</td>\n",
       "      <td>Forman's tormented, iconoclastic subjects are ...</td>\n",
       "    </tr>\n",
       "    <tr>\n",
       "      <th>83928</th>\n",
       "      <td>1</td>\n",
       "      <td>Kutcher does a good job of reigning in his lik...</td>\n",
       "    </tr>\n",
       "    <tr>\n",
       "      <th>52567</th>\n",
       "      <td>1</td>\n",
       "      <td>An off-beat and fanciful film about the human ...</td>\n",
       "    </tr>\n",
       "    <tr>\n",
       "      <th>28508</th>\n",
       "      <td>0</td>\n",
       "      <td>Whoa, this is bad. Even cribbed dialogue from ...</td>\n",
       "    </tr>\n",
       "    <tr>\n",
       "      <th>75649</th>\n",
       "      <td>0</td>\n",
       "      <td>Odds on you know what you're in for, so if you...</td>\n",
       "    </tr>\n",
       "  </tbody>\n",
       "</table>\n",
       "</div>"
      ],
      "text/plain": [
       "       label                                               text\n",
       "12328      1  Forman's tormented, iconoclastic subjects are ...\n",
       "83928      1  Kutcher does a good job of reigning in his lik...\n",
       "52567      1  An off-beat and fanciful film about the human ...\n",
       "28508      0  Whoa, this is bad. Even cribbed dialogue from ...\n",
       "75649      0  Odds on you know what you're in for, so if you..."
      ]
     },
     "execution_count": 49,
     "metadata": {},
     "output_type": "execute_result"
    }
   ],
   "source": [
    "data.head()"
   ]
  },
  {
   "cell_type": "code",
   "execution_count": 50,
   "metadata": {
    "collapsed": false
   },
   "outputs": [],
   "source": [
    "from sklearn.externals import joblib"
   ]
  },
  {
   "cell_type": "code",
   "execution_count": 51,
   "metadata": {
    "collapsed": true
   },
   "outputs": [],
   "source": [
    "# Snowball stemmers could be used as a dependency\n",
    "# for cleaning our text\n",
    "import nltk\n",
    "from nltk.stem import PorterStemmer\n",
    "import string\n",
    "stemmer = PorterStemmer()\n",
    "def tokenize_and_stem(text):\n",
    "    tokens = nltk.tokenize.word_tokenize(text)\n",
    "    # strip out punctuation and make lowercase\n",
    "    tokens = [token.lower().strip(string.punctuation)\n",
    "              for token in tokens if token.isalnum()]\n",
    "\n",
    "    # now stem the tokens\n",
    "    tokens = [stemmer.stem(token) for token in tokens]\n",
    "\n",
    "    return tokens"
   ]
  },
  {
   "cell_type": "code",
   "execution_count": 52,
   "metadata": {
    "collapsed": false
   },
   "outputs": [],
   "source": [
    "loaded_model = joblib.load('output.pkl')"
   ]
  },
  {
   "cell_type": "code",
   "execution_count": 53,
   "metadata": {
    "collapsed": false
   },
   "outputs": [
    {
     "name": "stdout",
     "output_type": "stream",
     "text": [
      "0.8652709521\n"
     ]
    }
   ],
   "source": [
    "from sklearn.metrics import accuracy_score\n",
    "y_pred = loaded_model.predict(data.text)\n",
    "print (accuracy_score(data.label, y_pred))"
   ]
  },
  {
   "cell_type": "code",
   "execution_count": null,
   "metadata": {
    "collapsed": true
   },
   "outputs": [],
   "source": []
  }
 ],
 "metadata": {
  "kernelspec": {
   "display_name": "Python 3",
   "language": "python",
   "name": "python3"
  },
  "language_info": {
   "codemirror_mode": {
    "name": "ipython",
    "version": 3
   },
   "file_extension": ".py",
   "mimetype": "text/x-python",
   "name": "python",
   "nbconvert_exporter": "python",
   "pygments_lexer": "ipython3",
   "version": "3.6.0"
  }
 },
 "nbformat": 4,
 "nbformat_minor": 2
}
