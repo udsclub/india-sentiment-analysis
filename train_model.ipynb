{
 "cells": [
  {
   "cell_type": "code",
   "execution_count": 6,
   "metadata": {
    "collapsed": true
   },
   "outputs": [],
   "source": [
    "import numpy as np\n",
    "import pandas as pd\n",
    "from sklearn.svm import SVC\n"
   ]
  },
  {
   "cell_type": "code",
   "execution_count": 7,
   "metadata": {
    "collapsed": false
   },
   "outputs": [],
   "source": [
    "data = pd.read_csv('reviews_rt_all.csv', sep = '|')"
   ]
  },
  {
   "cell_type": "code",
   "execution_count": 8,
   "metadata": {
    "collapsed": false
   },
   "outputs": [
    {
     "data": {
      "text/html": [
       "<div>\n",
       "<table border=\"1\" class=\"dataframe\">\n",
       "  <thead>\n",
       "    <tr style=\"text-align: right;\">\n",
       "      <th></th>\n",
       "      <th>label</th>\n",
       "      <th>text</th>\n",
       "    </tr>\n",
       "  </thead>\n",
       "  <tbody>\n",
       "    <tr>\n",
       "      <th>0</th>\n",
       "      <td>1</td>\n",
       "      <td>To an entire generation of filmgoers, it just ...</td>\n",
       "    </tr>\n",
       "    <tr>\n",
       "      <th>1</th>\n",
       "      <td>1</td>\n",
       "      <td>Pixar classic is one of the best kids' movies ...</td>\n",
       "    </tr>\n",
       "    <tr>\n",
       "      <th>2</th>\n",
       "      <td>1</td>\n",
       "      <td>Apesar de representar um imenso avanço tecnoló...</td>\n",
       "    </tr>\n",
       "    <tr>\n",
       "      <th>3</th>\n",
       "      <td>1</td>\n",
       "      <td>When Woody perks up in the opening scene, it's...</td>\n",
       "    </tr>\n",
       "    <tr>\n",
       "      <th>4</th>\n",
       "      <td>1</td>\n",
       "      <td>Introduced not one but two indelible character...</td>\n",
       "    </tr>\n",
       "  </tbody>\n",
       "</table>\n",
       "</div>"
      ],
      "text/plain": [
       "   label                                               text\n",
       "0      1  To an entire generation of filmgoers, it just ...\n",
       "1      1  Pixar classic is one of the best kids' movies ...\n",
       "2      1  Apesar de representar um imenso avanço tecnoló...\n",
       "3      1  When Woody perks up in the opening scene, it's...\n",
       "4      1  Introduced not one but two indelible character..."
      ]
     },
     "execution_count": 8,
     "metadata": {},
     "output_type": "execute_result"
    }
   ],
   "source": [
    "data.head()"
   ]
  },
  {
   "cell_type": "code",
   "execution_count": 9,
   "metadata": {
    "collapsed": false
   },
   "outputs": [
    {
     "data": {
      "text/html": [
       "<div>\n",
       "<table border=\"1\" class=\"dataframe\">\n",
       "  <thead>\n",
       "    <tr style=\"text-align: right;\">\n",
       "      <th></th>\n",
       "      <th>text</th>\n",
       "    </tr>\n",
       "    <tr>\n",
       "      <th>label</th>\n",
       "      <th></th>\n",
       "    </tr>\n",
       "  </thead>\n",
       "  <tbody>\n",
       "    <tr>\n",
       "      <th>0</th>\n",
       "      <td>37952</td>\n",
       "    </tr>\n",
       "    <tr>\n",
       "      <th>1</th>\n",
       "      <td>64658</td>\n",
       "    </tr>\n",
       "  </tbody>\n",
       "</table>\n",
       "</div>"
      ],
      "text/plain": [
       "        text\n",
       "label       \n",
       "0      37952\n",
       "1      64658"
      ]
     },
     "execution_count": 9,
     "metadata": {},
     "output_type": "execute_result"
    }
   ],
   "source": [
    "data.groupby('label').count()"
   ]
  },
  {
   "cell_type": "code",
   "execution_count": 10,
   "metadata": {
    "collapsed": false
   },
   "outputs": [
    {
     "data": {
      "text/plain": [
       "0         to an entire generation of filmgoers, it just ...\n",
       "1         pixar classic is one of the best kids' movies ...\n",
       "2         apesar de representar um imenso avanço tecnoló...\n",
       "3         when woody perks up in the opening scene, it's...\n",
       "4         introduced not one but two indelible character...\n",
       "5         it is easy to see how virtually everything tha...\n",
       "6         though some of the animation seems dated compa...\n",
       "7         perhaps the film is meant as a pre-emptive sop...\n",
       "8         time has been kind to it, and future years i i...\n",
       "9         i think i speak for all adults and kids when i...\n",
       "10        so ingenious in concept, design and execution ...\n",
       "11        turns out the real magic is nothing to do with...\n",
       "12        its lightness of touch has not diminished, nor...\n",
       "13        the 3-d viewing doesn't make much difference.....\n",
       "14        it doesn't enhance the experience, because the...\n",
       "15        as such toy story in 3d is never overwhelming....\n",
       "16        the fresh look serves the story and is never a...\n",
       "17        there's no denying 3d adds extra texture to pi...\n",
       "18        if anything, it feels even fresher, funnier an...\n",
       "19        if you haven't seen it for a while, you may ha...\n",
       "20        the humans are wooden, the computer-animals ha...\n",
       "21        some thrills, but may be too much for little o...\n",
       "22        like the rest of johnston's oeuvre, jumanji pu...\n",
       "23        this smart, scary film, is still a favorite to...\n",
       "24        all the effects in the world can't disguise th...\n",
       "25        great special effects and exciting adventure s...\n",
       "26        unsatisfied with just being cute, this sucker ...\n",
       "27        a visually impressive and exhilarating adventu...\n",
       "28        take away the cgi mayhem and what emerges is a...\n",
       "29        a gloomy special-effects extravaganza filled w...\n",
       "                                ...                        \n",
       "102580    a splendid example of 1930s hardboiled melodrama.\n",
       "102581     noted as the last movie john dillinger ever saw.\n",
       "102582    apart from the clark gable-william powell stel...\n",
       "102583    the drama may be clunky and old-fashioned, but...\n",
       "102584    one finds a mechanical plot which is scarcely ...\n",
       "102585    this is an archetypal gangster movie of the pe...\n",
       "102586    melodrama, yes. but effectively done with a dr...\n",
       "102587    this 1934 feature was the last movie john dill...\n",
       "102588    a very adult film with a credibly thorough exp...\n",
       "102589    a great combination of tour-de-force acting an...\n",
       "102590    we'll allow this sad little premature ejaculat...\n",
       "102591    choke is an admirably fearless no-net movie, b...\n",
       "102592                    squandered dime-store philosophy.\n",
       "102593    despite the busy plotwork, surprisingly little...\n",
       "102594                 an erotic gospel for the secular age\n",
       "102595    'choke' never manages to be as edgy, amusing, ...\n",
       "102596    uneven and oddly compromised in tone, choke is...\n",
       "102597    choke is a confused sex comedy by clark gregg ...\n",
       "102598    for all its flaws and fumbles there is a certa...\n",
       "102599    this adaptation of a novel by american provoca...\n",
       "102600    choke was never going to win any prizes for su...\n",
       "102601    but his sterility and romantically curved plot...\n",
       "102602    it's hard to know what aspect is the most offe...\n",
       "102603    palahniuk's novels are so wilfully quirky, so ...\n",
       "102604    all this madness provides amusing moments, but...\n",
       "102605    the whole movie is dying, actually. but it put...\n",
       "102606    an uneven take on palahniuk's fourth novel, ro...\n",
       "102607    sharper direction and a less throwaway tone wo...\n",
       "102608    enjoyable, blackly comic drama with a great sc...\n",
       "102609    the many opportunities to send up sex and psyc...\n",
       "Name: text, dtype: object"
      ]
     },
     "execution_count": 10,
     "metadata": {},
     "output_type": "execute_result"
    }
   ],
   "source": [
    "data.text.str.lower()"
   ]
  },
  {
   "cell_type": "code",
   "execution_count": 11,
   "metadata": {
    "collapsed": true
   },
   "outputs": [],
   "source": [
    "from sklearn.feature_extraction.text import CountVectorizer\n",
    "cvect = CountVectorizer()\n",
    "counts = cvect.fit_transform(data['text'])"
   ]
  },
  {
   "cell_type": "code",
   "execution_count": 12,
   "metadata": {
    "collapsed": false
   },
   "outputs": [
    {
     "name": "stdout",
     "output_type": "stream",
     "text": [
      "[[0 0 0 ..., 0 0 0]\n",
      " [0 0 0 ..., 0 0 0]\n",
      " [0 0 0 ..., 0 0 0]\n",
      " ..., \n",
      " [0 0 0 ..., 0 0 0]\n",
      " [0 0 0 ..., 0 0 0]\n",
      " [0 0 0 ..., 0 0 0]]\n"
     ]
    }
   ],
   "source": [
    "print(counts.toarray().transpose())"
   ]
  },
  {
   "cell_type": "code",
   "execution_count": 13,
   "metadata": {
    "collapsed": false
   },
   "outputs": [],
   "source": [
    "from sklearn.model_selection import train_test_split\n",
    "X_train, X_test, y_train, y_test  = train_test_split(\n",
    "        data.text, \n",
    "        data.label,\n",
    "        train_size=0.85, \n",
    "        random_state=1234)"
   ]
  },
  {
   "cell_type": "code",
   "execution_count": 14,
   "metadata": {
    "collapsed": false
   },
   "outputs": [],
   "source": [
    "#from nltk.corpus import stopwords\n",
    "#stopset = set(stopwords.words('english'))\n",
    "STOPWORDS = ['a','an','by','did','does', 'was', 'were', 'i']"
   ]
  },
  {
   "cell_type": "code",
   "execution_count": 15,
   "metadata": {
    "collapsed": false
   },
   "outputs": [
    {
     "data": {
      "text/plain": [
       "'\\nimport nltk\\nfrom nltk.stem import PorterStemmer\\nimport string\\nstemmer = PorterStemmer()\\ndef tokenize_and_stem(text):\\n    tokens = nltk.tokenize.word_tokenize(text)\\n    # strip out punctuation and make lowercase\\n    tokens = [token.lower().strip(string.punctuation)\\n              for token in tokens if token.isalnum()]\\n\\n    # now stem the tokens\\n    tokens = [stemmer.stem(token) for token in tokens]\\n\\n    return tokens\\n'"
      ]
     },
     "execution_count": 15,
     "metadata": {},
     "output_type": "execute_result"
    }
   ],
   "source": [
    "# Snowball stemmers could be used as a dependency\n",
    "# for cleaning our text\n",
    "'''\n",
    "import nltk\n",
    "from nltk.stem import PorterStemmer\n",
    "import string\n",
    "stemmer = PorterStemmer()\n",
    "def tokenize_and_stem(text):\n",
    "    tokens = nltk.tokenize.word_tokenize(text)\n",
    "    # strip out punctuation and make lowercase\n",
    "    tokens = [token.lower().strip(string.punctuation)\n",
    "              for token in tokens if token.isalnum()]\n",
    "\n",
    "    # now stem the tokens\n",
    "    tokens = [stemmer.stem(token) for token in tokens]\n",
    "\n",
    "    return tokens\n",
    "'''"
   ]
  },
  {
   "cell_type": "code",
   "execution_count": 16,
   "metadata": {
    "collapsed": false
   },
   "outputs": [],
   "source": [
    "from sklearn.pipeline import Pipeline\n",
    "#from sklearn.LogisticRegression import LogisticRegression\n",
    "from sklearn.linear_model import LogisticRegression\n",
    "#tokenizer=tokenize_and_stem\n",
    "pipeline = Pipeline([('vectorizer', CountVectorizer(ngram_range=(1, 2),stop_words=STOPWORDS)), ('classifier', LogisticRegression())])\n",
    "model = pipeline.fit(X=X_train, y=y_train)"
   ]
  },
  {
   "cell_type": "code",
   "execution_count": 17,
   "metadata": {
    "collapsed": false
   },
   "outputs": [
    {
     "name": "stdout",
     "output_type": "stream",
     "text": [
      "0.805873180873\n",
      "             precision    recall  f1-score   support\n",
      "\n",
      "          0       0.77      0.68      0.72      5750\n",
      "          1       0.82      0.88      0.85      9642\n",
      "\n",
      "avg / total       0.80      0.81      0.80     15392\n",
      "\n"
     ]
    }
   ],
   "source": [
    "from sklearn.metrics import accuracy_score\n",
    "from sklearn.metrics import classification_report\n",
    "y_pred = model.predict(X_test)\n",
    "print (accuracy_score(y_test, y_pred))\n",
    "print(classification_report(y_test, y_pred))"
   ]
  },
  {
   "cell_type": "code",
   "execution_count": 18,
   "metadata": {
    "collapsed": false,
    "scrolled": true
   },
   "outputs": [
    {
     "data": {
      "text/plain": [
       "['output.pkl']"
      ]
     },
     "execution_count": 18,
     "metadata": {},
     "output_type": "execute_result"
    }
   ],
   "source": [
    "from sklearn.externals import joblib\n",
    "\n",
    "joblib.dump(pipeline, 'output.pkl')"
   ]
  },
  {
   "cell_type": "code",
   "execution_count": null,
   "metadata": {
    "collapsed": true
   },
   "outputs": [],
   "source": []
  }
 ],
 "metadata": {
  "kernelspec": {
   "display_name": "Python 3",
   "language": "python",
   "name": "python3"
  },
  "language_info": {
   "codemirror_mode": {
    "name": "ipython",
    "version": 3
   },
   "file_extension": ".py",
   "mimetype": "text/x-python",
   "name": "python",
   "nbconvert_exporter": "python",
   "pygments_lexer": "ipython3",
   "version": "3.6.0"
  }
 },
 "nbformat": 4,
 "nbformat_minor": 2
}
