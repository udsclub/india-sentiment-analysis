{
 "cells": [
  {
   "cell_type": "code",
   "execution_count": 45,
   "metadata": {
    "collapsed": true
   },
   "outputs": [],
   "source": [
    "import numpy as np\n",
    "import pandas as pd\n",
    "from sklearn.svm import SVC\n",
    "from sklearn.utils import shuffle\n"
   ]
  },
  {
   "cell_type": "code",
   "execution_count": 46,
   "metadata": {
    "collapsed": false
   },
   "outputs": [],
   "source": [
    "data1 = pd.read_csv('reviews_rt_all.csv', sep = '|')\n",
    "\n",
    "data2 = pd.read_csv('C:/Users/pholovnya/Desktop/imdb_small.csv', sep = '|')"
   ]
  },
  {
   "cell_type": "code",
   "execution_count": 47,
   "metadata": {
    "collapsed": false
   },
   "outputs": [],
   "source": [
    "data = data1.append(data2)\n",
    "data = shuffle(data,random_state=42)"
   ]
  },
  {
   "cell_type": "code",
   "execution_count": 48,
   "metadata": {
    "collapsed": false
   },
   "outputs": [
    {
     "data": {
      "text/html": [
       "<div>\n",
       "<table border=\"1\" class=\"dataframe\">\n",
       "  <thead>\n",
       "    <tr style=\"text-align: right;\">\n",
       "      <th></th>\n",
       "      <th>text</th>\n",
       "    </tr>\n",
       "    <tr>\n",
       "      <th>label</th>\n",
       "      <th></th>\n",
       "    </tr>\n",
       "  </thead>\n",
       "  <tbody>\n",
       "    <tr>\n",
       "      <th>0</th>\n",
       "      <td>62952</td>\n",
       "    </tr>\n",
       "    <tr>\n",
       "      <th>1</th>\n",
       "      <td>89658</td>\n",
       "    </tr>\n",
       "  </tbody>\n",
       "</table>\n",
       "</div>"
      ],
      "text/plain": [
       "        text\n",
       "label       \n",
       "0      62952\n",
       "1      89658"
      ]
     },
     "execution_count": 48,
     "metadata": {},
     "output_type": "execute_result"
    }
   ],
   "source": [
    "data.groupby('label').count()"
   ]
  },
  {
   "cell_type": "code",
   "execution_count": 49,
   "metadata": {
    "collapsed": false
   },
   "outputs": [
    {
     "data": {
      "text/html": [
       "<div>\n",
       "<table border=\"1\" class=\"dataframe\">\n",
       "  <thead>\n",
       "    <tr style=\"text-align: right;\">\n",
       "      <th></th>\n",
       "      <th>label</th>\n",
       "      <th>text</th>\n",
       "    </tr>\n",
       "  </thead>\n",
       "  <tbody>\n",
       "    <tr>\n",
       "      <th>12328</th>\n",
       "      <td>1</td>\n",
       "      <td>Forman's tormented, iconoclastic subjects are ...</td>\n",
       "    </tr>\n",
       "    <tr>\n",
       "      <th>83928</th>\n",
       "      <td>1</td>\n",
       "      <td>Kutcher does a good job of reigning in his lik...</td>\n",
       "    </tr>\n",
       "    <tr>\n",
       "      <th>52567</th>\n",
       "      <td>1</td>\n",
       "      <td>An off-beat and fanciful film about the human ...</td>\n",
       "    </tr>\n",
       "    <tr>\n",
       "      <th>28508</th>\n",
       "      <td>0</td>\n",
       "      <td>Whoa, this is bad. Even cribbed dialogue from ...</td>\n",
       "    </tr>\n",
       "    <tr>\n",
       "      <th>75649</th>\n",
       "      <td>0</td>\n",
       "      <td>Odds on you know what you're in for, so if you...</td>\n",
       "    </tr>\n",
       "  </tbody>\n",
       "</table>\n",
       "</div>"
      ],
      "text/plain": [
       "       label                                               text\n",
       "12328      1  Forman's tormented, iconoclastic subjects are ...\n",
       "83928      1  Kutcher does a good job of reigning in his lik...\n",
       "52567      1  An off-beat and fanciful film about the human ...\n",
       "28508      0  Whoa, this is bad. Even cribbed dialogue from ...\n",
       "75649      0  Odds on you know what you're in for, so if you..."
      ]
     },
     "execution_count": 49,
     "metadata": {},
     "output_type": "execute_result"
    }
   ],
   "source": [
    "data.text.str.lower()\n",
    "\n",
    "data.head()\n",
    "\n",
    "#data['text'] = data['text'].str.replace('[^\\w\\s]','')\n"
   ]
  },
  {
   "cell_type": "code",
   "execution_count": 50,
   "metadata": {
    "collapsed": false
   },
   "outputs": [
    {
     "data": {
      "text/html": [
       "<div>\n",
       "<table border=\"1\" class=\"dataframe\">\n",
       "  <thead>\n",
       "    <tr style=\"text-align: right;\">\n",
       "      <th></th>\n",
       "      <th>label</th>\n",
       "      <th>text</th>\n",
       "    </tr>\n",
       "  </thead>\n",
       "  <tbody>\n",
       "    <tr>\n",
       "      <th>12328</th>\n",
       "      <td>1</td>\n",
       "      <td>Forman's tormented, iconoclastic subjects are ...</td>\n",
       "    </tr>\n",
       "    <tr>\n",
       "      <th>83928</th>\n",
       "      <td>1</td>\n",
       "      <td>Kutcher does a good job of reigning in his lik...</td>\n",
       "    </tr>\n",
       "    <tr>\n",
       "      <th>52567</th>\n",
       "      <td>1</td>\n",
       "      <td>An off-beat and fanciful film about the human ...</td>\n",
       "    </tr>\n",
       "    <tr>\n",
       "      <th>28508</th>\n",
       "      <td>0</td>\n",
       "      <td>Whoa, this is bad. Even cribbed dialogue from ...</td>\n",
       "    </tr>\n",
       "    <tr>\n",
       "      <th>75649</th>\n",
       "      <td>0</td>\n",
       "      <td>Odds on you know what you're in for, so if you...</td>\n",
       "    </tr>\n",
       "    <tr>\n",
       "      <th>84190</th>\n",
       "      <td>0</td>\n",
       "      <td>Latifah is fun but the plot is a 'Barbershop' ...</td>\n",
       "    </tr>\n",
       "    <tr>\n",
       "      <th>44919</th>\n",
       "      <td>1</td>\n",
       "      <td>A fascinatingly beautiful film.</td>\n",
       "    </tr>\n",
       "    <tr>\n",
       "      <th>50883</th>\n",
       "      <td>0</td>\n",
       "      <td>An adolescent romance we've seen a million tim...</td>\n",
       "    </tr>\n",
       "    <tr>\n",
       "      <th>29981</th>\n",
       "      <td>0</td>\n",
       "      <td>C'mon people, you can't be serious, another ca...</td>\n",
       "    </tr>\n",
       "    <tr>\n",
       "      <th>14292</th>\n",
       "      <td>0</td>\n",
       "      <td>Killer shark attacks Sea World. Dennis Quaid's...</td>\n",
       "    </tr>\n",
       "    <tr>\n",
       "      <th>93283</th>\n",
       "      <td>1</td>\n",
       "      <td>Less contentious than typical Von Trier but al...</td>\n",
       "    </tr>\n",
       "    <tr>\n",
       "      <th>2372</th>\n",
       "      <td>1</td>\n",
       "      <td>Although it borrows heavily from last year's P...</td>\n",
       "    </tr>\n",
       "    <tr>\n",
       "      <th>55380</th>\n",
       "      <td>0</td>\n",
       "      <td>Though slick and diverting in some aspects, in...</td>\n",
       "    </tr>\n",
       "    <tr>\n",
       "      <th>18090</th>\n",
       "      <td>1</td>\n",
       "      <td>Fantastic Chaplin movie with many memorable mo...</td>\n",
       "    </tr>\n",
       "    <tr>\n",
       "      <th>90112</th>\n",
       "      <td>1</td>\n",
       "      <td>In the interest of understanding how your gove...</td>\n",
       "    </tr>\n",
       "    <tr>\n",
       "      <th>13575</th>\n",
       "      <td>1</td>\n",
       "      <td>Four years ago, Seattle was where the home of ...</td>\n",
       "    </tr>\n",
       "    <tr>\n",
       "      <th>10631</th>\n",
       "      <td>0</td>\n",
       "      <td>The Brave One is about a New York radio show h...</td>\n",
       "    </tr>\n",
       "    <tr>\n",
       "      <th>42249</th>\n",
       "      <td>1</td>\n",
       "      <td>A film that dramatized an understandable reluc...</td>\n",
       "    </tr>\n",
       "    <tr>\n",
       "      <th>15977</th>\n",
       "      <td>0</td>\n",
       "      <td>Aniston doesn't need dialogue to catch Kate's ...</td>\n",
       "    </tr>\n",
       "    <tr>\n",
       "      <th>6847</th>\n",
       "      <td>0</td>\n",
       "      <td>Aksar is an awful movie. The script, the story...</td>\n",
       "    </tr>\n",
       "    <tr>\n",
       "      <th>54275</th>\n",
       "      <td>1</td>\n",
       "      <td>\"Lovely and Amazing is a story about real peop...</td>\n",
       "    </tr>\n",
       "    <tr>\n",
       "      <th>15260</th>\n",
       "      <td>1</td>\n",
       "      <td>Is it a murder mystery? Is it a police procedu...</td>\n",
       "    </tr>\n",
       "    <tr>\n",
       "      <th>97168</th>\n",
       "      <td>1</td>\n",
       "      <td>o matter how silly the situation, each member ...</td>\n",
       "    </tr>\n",
       "    <tr>\n",
       "      <th>9989</th>\n",
       "      <td>1</td>\n",
       "      <td>It has atmosphere, wild animals, pirates, and ...</td>\n",
       "    </tr>\n",
       "    <tr>\n",
       "      <th>40836</th>\n",
       "      <td>0</td>\n",
       "      <td>None of the jokes are funny, sex is referred t...</td>\n",
       "    </tr>\n",
       "    <tr>\n",
       "      <th>21656</th>\n",
       "      <td>1</td>\n",
       "      <td>People who thought that THE CHRONICLES OF RIDD...</td>\n",
       "    </tr>\n",
       "    <tr>\n",
       "      <th>20485</th>\n",
       "      <td>1</td>\n",
       "      <td>Its dramatic shortcomings may demote Private R...</td>\n",
       "    </tr>\n",
       "    <tr>\n",
       "      <th>49724</th>\n",
       "      <td>1</td>\n",
       "      <td>...in our household. Like everyone else who ha...</td>\n",
       "    </tr>\n",
       "    <tr>\n",
       "      <th>8479</th>\n",
       "      <td>0</td>\n",
       "      <td>I got this movie from the library, and saw it ...</td>\n",
       "    </tr>\n",
       "    <tr>\n",
       "      <th>60319</th>\n",
       "      <td>0</td>\n",
       "      <td>When an Oster Breadmaker gets some of the film...</td>\n",
       "    </tr>\n",
       "    <tr>\n",
       "      <th>...</th>\n",
       "      <td>...</td>\n",
       "      <td>...</td>\n",
       "    </tr>\n",
       "    <tr>\n",
       "      <th>84654</th>\n",
       "      <td>1</td>\n",
       "      <td>It has the rough, penciled-in feel of a sketch...</td>\n",
       "    </tr>\n",
       "    <tr>\n",
       "      <th>27371</th>\n",
       "      <td>0</td>\n",
       "      <td>On the face of it, this should be a great film...</td>\n",
       "    </tr>\n",
       "    <tr>\n",
       "      <th>65725</th>\n",
       "      <td>0</td>\n",
       "      <td>You might think this prodigal would learn to t...</td>\n",
       "    </tr>\n",
       "    <tr>\n",
       "      <th>21245</th>\n",
       "      <td>1</td>\n",
       "      <td>Being in the suburbs of New York when the Z-Bo...</td>\n",
       "    </tr>\n",
       "    <tr>\n",
       "      <th>2747</th>\n",
       "      <td>1</td>\n",
       "      <td>If you love movies, you've got a little Ed Woo...</td>\n",
       "    </tr>\n",
       "    <tr>\n",
       "      <th>27913</th>\n",
       "      <td>0</td>\n",
       "      <td>Saw this on TV. I'm glad I didn't go to the ci...</td>\n",
       "    </tr>\n",
       "    <tr>\n",
       "      <th>46893</th>\n",
       "      <td>1</td>\n",
       "      <td>If you are looking for a sonic-boom-special-ef...</td>\n",
       "    </tr>\n",
       "    <tr>\n",
       "      <th>19927</th>\n",
       "      <td>1</td>\n",
       "      <td>Robin Williams shows his stand-up talents and ...</td>\n",
       "    </tr>\n",
       "    <tr>\n",
       "      <th>84478</th>\n",
       "      <td>0</td>\n",
       "      <td>'Screenwriter' Wayne Conley's idea of side-spl...</td>\n",
       "    </tr>\n",
       "    <tr>\n",
       "      <th>27998</th>\n",
       "      <td>0</td>\n",
       "      <td>First, before reading further, you must unders...</td>\n",
       "    </tr>\n",
       "    <tr>\n",
       "      <th>85305</th>\n",
       "      <td>0</td>\n",
       "      <td>Esteemed Brazilian director Walter Salles (\"Th...</td>\n",
       "    </tr>\n",
       "    <tr>\n",
       "      <th>745</th>\n",
       "      <td>0</td>\n",
       "      <td>I have to hold my hand up and say that I was o...</td>\n",
       "    </tr>\n",
       "    <tr>\n",
       "      <th>5311</th>\n",
       "      <td>1</td>\n",
       "      <td>Pleasant, but unexciting.</td>\n",
       "    </tr>\n",
       "    <tr>\n",
       "      <th>64925</th>\n",
       "      <td>1</td>\n",
       "      <td>If this film's coda doesn't move you to tears,...</td>\n",
       "    </tr>\n",
       "    <tr>\n",
       "      <th>59735</th>\n",
       "      <td>0</td>\n",
       "      <td>The film maintains an actual \"plot,\" but views...</td>\n",
       "    </tr>\n",
       "    <tr>\n",
       "      <th>769</th>\n",
       "      <td>0</td>\n",
       "      <td>Georgia Rule isn't a bad movie. It's several b...</td>\n",
       "    </tr>\n",
       "    <tr>\n",
       "      <th>64820</th>\n",
       "      <td>1</td>\n",
       "      <td>It's marvelously acted, superbly written, and ...</td>\n",
       "    </tr>\n",
       "    <tr>\n",
       "      <th>67221</th>\n",
       "      <td>0</td>\n",
       "      <td>...Busch drags his campy send-up of Hollywood ...</td>\n",
       "    </tr>\n",
       "    <tr>\n",
       "      <th>41090</th>\n",
       "      <td>1</td>\n",
       "      <td>This is exactly the kind of intellectual in-jo...</td>\n",
       "    </tr>\n",
       "    <tr>\n",
       "      <th>16023</th>\n",
       "      <td>0</td>\n",
       "      <td>Parece que se tornou uma especialidade de Holl...</td>\n",
       "    </tr>\n",
       "    <tr>\n",
       "      <th>23714</th>\n",
       "      <td>1</td>\n",
       "      <td>I cannot believe I never added my two cents ab...</td>\n",
       "    </tr>\n",
       "    <tr>\n",
       "      <th>10117</th>\n",
       "      <td>0</td>\n",
       "      <td>To some of us, director Ernst Lubitsch, adored...</td>\n",
       "    </tr>\n",
       "    <tr>\n",
       "      <th>87498</th>\n",
       "      <td>1</td>\n",
       "      <td>Her high-wire stage performance is unmissable ...</td>\n",
       "    </tr>\n",
       "    <tr>\n",
       "      <th>34727</th>\n",
       "      <td>0</td>\n",
       "      <td>This long winded film turns out to be less abo...</td>\n",
       "    </tr>\n",
       "    <tr>\n",
       "      <th>54886</th>\n",
       "      <td>1</td>\n",
       "      <td>How apt for a film called Signs that Shyamalan...</td>\n",
       "    </tr>\n",
       "    <tr>\n",
       "      <th>7658</th>\n",
       "      <td>0</td>\n",
       "      <td>I could not believe the original rating I foun...</td>\n",
       "    </tr>\n",
       "    <tr>\n",
       "      <th>17269</th>\n",
       "      <td>1</td>\n",
       "      <td>I saw this film on TV in the UK some 25 years ...</td>\n",
       "    </tr>\n",
       "    <tr>\n",
       "      <th>29322</th>\n",
       "      <td>0</td>\n",
       "      <td>Trying to conceive of something as insipid as ...</td>\n",
       "    </tr>\n",
       "    <tr>\n",
       "      <th>44257</th>\n",
       "      <td>1</td>\n",
       "      <td>Apart from having the longest reign in British...</td>\n",
       "    </tr>\n",
       "    <tr>\n",
       "      <th>19348</th>\n",
       "      <td>1</td>\n",
       "      <td>A fine performance by Vittorio Mezzogiorno and...</td>\n",
       "    </tr>\n",
       "  </tbody>\n",
       "</table>\n",
       "<p>151885 rows × 2 columns</p>\n",
       "</div>"
      ],
      "text/plain": [
       "       label                                               text\n",
       "12328      1  Forman's tormented, iconoclastic subjects are ...\n",
       "83928      1  Kutcher does a good job of reigning in his lik...\n",
       "52567      1  An off-beat and fanciful film about the human ...\n",
       "28508      0  Whoa, this is bad. Even cribbed dialogue from ...\n",
       "75649      0  Odds on you know what you're in for, so if you...\n",
       "84190      0  Latifah is fun but the plot is a 'Barbershop' ...\n",
       "44919      1                    A fascinatingly beautiful film.\n",
       "50883      0  An adolescent romance we've seen a million tim...\n",
       "29981      0  C'mon people, you can't be serious, another ca...\n",
       "14292      0  Killer shark attacks Sea World. Dennis Quaid's...\n",
       "93283      1  Less contentious than typical Von Trier but al...\n",
       "2372       1  Although it borrows heavily from last year's P...\n",
       "55380      0  Though slick and diverting in some aspects, in...\n",
       "18090      1  Fantastic Chaplin movie with many memorable mo...\n",
       "90112      1  In the interest of understanding how your gove...\n",
       "13575      1  Four years ago, Seattle was where the home of ...\n",
       "10631      0  The Brave One is about a New York radio show h...\n",
       "42249      1  A film that dramatized an understandable reluc...\n",
       "15977      0  Aniston doesn't need dialogue to catch Kate's ...\n",
       "6847       0  Aksar is an awful movie. The script, the story...\n",
       "54275      1  \"Lovely and Amazing is a story about real peop...\n",
       "15260      1  Is it a murder mystery? Is it a police procedu...\n",
       "97168      1  o matter how silly the situation, each member ...\n",
       "9989       1  It has atmosphere, wild animals, pirates, and ...\n",
       "40836      0  None of the jokes are funny, sex is referred t...\n",
       "21656      1  People who thought that THE CHRONICLES OF RIDD...\n",
       "20485      1  Its dramatic shortcomings may demote Private R...\n",
       "49724      1  ...in our household. Like everyone else who ha...\n",
       "8479       0  I got this movie from the library, and saw it ...\n",
       "60319      0  When an Oster Breadmaker gets some of the film...\n",
       "...      ...                                                ...\n",
       "84654      1  It has the rough, penciled-in feel of a sketch...\n",
       "27371      0  On the face of it, this should be a great film...\n",
       "65725      0  You might think this prodigal would learn to t...\n",
       "21245      1  Being in the suburbs of New York when the Z-Bo...\n",
       "2747       1  If you love movies, you've got a little Ed Woo...\n",
       "27913      0  Saw this on TV. I'm glad I didn't go to the ci...\n",
       "46893      1  If you are looking for a sonic-boom-special-ef...\n",
       "19927      1  Robin Williams shows his stand-up talents and ...\n",
       "84478      0  'Screenwriter' Wayne Conley's idea of side-spl...\n",
       "27998      0  First, before reading further, you must unders...\n",
       "85305      0  Esteemed Brazilian director Walter Salles (\"Th...\n",
       "745        0  I have to hold my hand up and say that I was o...\n",
       "5311       1                          Pleasant, but unexciting.\n",
       "64925      1  If this film's coda doesn't move you to tears,...\n",
       "59735      0  The film maintains an actual \"plot,\" but views...\n",
       "769        0  Georgia Rule isn't a bad movie. It's several b...\n",
       "64820      1  It's marvelously acted, superbly written, and ...\n",
       "67221      0  ...Busch drags his campy send-up of Hollywood ...\n",
       "41090      1  This is exactly the kind of intellectual in-jo...\n",
       "16023      0  Parece que se tornou uma especialidade de Holl...\n",
       "23714      1  I cannot believe I never added my two cents ab...\n",
       "10117      0  To some of us, director Ernst Lubitsch, adored...\n",
       "87498      1  Her high-wire stage performance is unmissable ...\n",
       "34727      0  This long winded film turns out to be less abo...\n",
       "54886      1  How apt for a film called Signs that Shyamalan...\n",
       "7658       0  I could not believe the original rating I foun...\n",
       "17269      1  I saw this film on TV in the UK some 25 years ...\n",
       "29322      0  Trying to conceive of something as insipid as ...\n",
       "44257      1  Apart from having the longest reign in British...\n",
       "19348      1  A fine performance by Vittorio Mezzogiorno and...\n",
       "\n",
       "[151885 rows x 2 columns]"
      ]
     },
     "execution_count": 50,
     "metadata": {},
     "output_type": "execute_result"
    }
   ],
   "source": [
    "data.drop_duplicates()\n",
    "#Return DataFrame with duplicate rows removed, optionally only considering certain columns"
   ]
  },
  {
   "cell_type": "code",
   "execution_count": 51,
   "metadata": {
    "collapsed": false
   },
   "outputs": [
    {
     "data": {
      "text/html": [
       "<div>\n",
       "<table border=\"1\" class=\"dataframe\">\n",
       "  <thead>\n",
       "    <tr style=\"text-align: right;\">\n",
       "      <th></th>\n",
       "      <th>label</th>\n",
       "      <th>text</th>\n",
       "    </tr>\n",
       "  </thead>\n",
       "  <tbody>\n",
       "  </tbody>\n",
       "</table>\n",
       "</div>"
      ],
      "text/plain": [
       "Empty DataFrame\n",
       "Columns: [label, text]\n",
       "Index: []"
      ]
     },
     "execution_count": 51,
     "metadata": {},
     "output_type": "execute_result"
    }
   ],
   "source": [
    "#drop_non_english\n",
    "drop_indices= []\n",
    "for index, row in data.iterrows():\n",
    "    try:\n",
    "        if detect(row['text']) != \"en\":\n",
    "            drop_indices.append (index)\n",
    "    except Exception:\n",
    "        drop_indices.append (index)\n",
    "data.drop(drop_indices)"
   ]
  },
  {
   "cell_type": "code",
   "execution_count": 52,
   "metadata": {
    "collapsed": true
   },
   "outputs": [],
   "source": [
    "from sklearn.feature_extraction.text import CountVectorizer\n",
    "cvect = CountVectorizer()\n",
    "counts = cvect.fit_transform(data['text'])"
   ]
  },
  {
   "cell_type": "code",
   "execution_count": 53,
   "metadata": {
    "collapsed": false
   },
   "outputs": [],
   "source": [
    "#print(counts.toarray().transpose())"
   ]
  },
  {
   "cell_type": "code",
   "execution_count": 54,
   "metadata": {
    "collapsed": false
   },
   "outputs": [],
   "source": [
    "from sklearn.model_selection import train_test_split\n",
    "X_train, X_test, y_train, y_test  = train_test_split(\n",
    "        data.text, \n",
    "        data.label,\n",
    "        train_size=0.8, \n",
    "        random_state=42)"
   ]
  },
  {
   "cell_type": "code",
   "execution_count": 55,
   "metadata": {
    "collapsed": false
   },
   "outputs": [],
   "source": [
    "#from nltk.corpus import stopwords\n",
    "#stopset = set(stopwords.words('english'))\n",
    "STOPWORDS = ['a','an','by','did','does', 'was', 'were', 'i']"
   ]
  },
  {
   "cell_type": "code",
   "execution_count": 56,
   "metadata": {
    "collapsed": false
   },
   "outputs": [
    {
     "data": {
      "text/plain": [
       "'\\nimport nltk\\nfrom nltk.stem import PorterStemmer\\nimport string\\nstemmer = PorterStemmer()\\ndef tokenize_and_stem(text):\\n    tokens = nltk.tokenize.word_tokenize(text)\\n    # strip out punctuation and make lowercase\\n    tokens = [token.lower().strip(string.punctuation)\\n              for token in tokens if token.isalnum()]\\n\\n    # now stem the tokens\\n    tokens = [stemmer.stem(token) for token in tokens]\\n\\n    return tokens\\n'"
      ]
     },
     "execution_count": 56,
     "metadata": {},
     "output_type": "execute_result"
    }
   ],
   "source": [
    "# Snowball stemmers could be used as a dependency\n",
    "# for cleaning our text\n",
    "'''\n",
    "import nltk\n",
    "from nltk.stem import PorterStemmer\n",
    "import string\n",
    "stemmer = PorterStemmer()\n",
    "def tokenize_and_stem(text):\n",
    "    tokens = nltk.tokenize.word_tokenize(text)\n",
    "    # strip out punctuation and make lowercase\n",
    "    tokens = [token.lower().strip(string.punctuation)\n",
    "              for token in tokens if token.isalnum()]\n",
    "\n",
    "    # now stem the tokens\n",
    "    tokens = [stemmer.stem(token) for token in tokens]\n",
    "\n",
    "    return tokens\n",
    "'''"
   ]
  },
  {
   "cell_type": "code",
   "execution_count": 57,
   "metadata": {
    "collapsed": false
   },
   "outputs": [],
   "source": [
    "from sklearn.pipeline import Pipeline\n",
    "#from sklearn.LogisticRegression import LogisticRegression\n",
    "from sklearn.linear_model import LogisticRegression\n",
    "#from pipeline.text_cleaner import TextCleaner\n",
    "#tokenizer=tokenize_and_stem\n",
    "pipeline = Pipeline([('vectorizer', CountVectorizer(ngram_range=(1, 2),stop_words=STOPWORDS)), ('classifier', LogisticRegression(verbose=1))])\n"
   ]
  },
  {
   "cell_type": "code",
   "execution_count": 58,
   "metadata": {
    "collapsed": true
   },
   "outputs": [],
   "source": [
    "#0.7945\n",
    "#from sklearn.naive_bayes import MultinomialNB\n",
    "#from sklearn.pipeline import Pipeline\n",
    "#pipeline = Pipeline([('vectorizer', CountVectorizer(ngram_range=(1, 2),stop_words=STOPWORDS)), ('classifier', MultinomialNB())])"
   ]
  },
  {
   "cell_type": "code",
   "execution_count": 59,
   "metadata": {
    "collapsed": false
   },
   "outputs": [
    {
     "name": "stdout",
     "output_type": "stream",
     "text": [
      "[LibLinear]"
     ]
    }
   ],
   "source": [
    "model = pipeline.fit(X=X_train, y=y_train)"
   ]
  },
  {
   "cell_type": "code",
   "execution_count": 60,
   "metadata": {
    "collapsed": false
   },
   "outputs": [
    {
     "name": "stdout",
     "output_type": "stream",
     "text": [
      "0.837690845947\n",
      "             precision    recall  f1-score   support\n",
      "\n",
      "          0       0.83      0.77      0.80     12744\n",
      "          1       0.84      0.89      0.86     17778\n",
      "\n",
      "avg / total       0.84      0.84      0.84     30522\n",
      "\n"
     ]
    }
   ],
   "source": [
    "from sklearn.metrics import accuracy_score\n",
    "from sklearn.metrics import classification_report\n",
    "y_pred = model.predict(X_test)\n",
    "print (accuracy_score(y_test, y_pred))\n",
    "print(classification_report(y_test, y_pred))"
   ]
  },
  {
   "cell_type": "code",
   "execution_count": 18,
   "metadata": {
    "collapsed": false,
    "scrolled": true
   },
   "outputs": [
    {
     "data": {
      "text/plain": [
       "['output.pkl']"
      ]
     },
     "execution_count": 18,
     "metadata": {},
     "output_type": "execute_result"
    }
   ],
   "source": [
    "from sklearn.externals import joblib\n",
    "\n",
    "joblib.dump(pipeline, 'output.pkl')"
   ]
  },
  {
   "cell_type": "code",
   "execution_count": null,
   "metadata": {
    "collapsed": true
   },
   "outputs": [],
   "source": []
  }
 ],
 "metadata": {
  "kernelspec": {
   "display_name": "Python 3",
   "language": "python",
   "name": "python3"
  },
  "language_info": {
   "codemirror_mode": {
    "name": "ipython",
    "version": 3
   },
   "file_extension": ".py",
   "mimetype": "text/x-python",
   "name": "python",
   "nbconvert_exporter": "python",
   "pygments_lexer": "ipython3",
   "version": "3.6.0"
  }
 },
 "nbformat": 4,
 "nbformat_minor": 2
}
